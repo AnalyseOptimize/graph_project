{
 "cells": [
  {
   "cell_type": "code",
   "execution_count": 1,
   "id": "4345fcdd",
   "metadata": {},
   "outputs": [],
   "source": [
    "import vk_api\n",
    "import networkx as nx\n",
    "import matplotlib.pyplot as plt\n",
    "import numpy as np"
   ]
  },
  {
   "cell_type": "code",
   "execution_count": 2,
   "id": "3aacd5d9",
   "metadata": {},
   "outputs": [],
   "source": [
    "def get_friends_graph(group_id, access_token):\n",
    "    \"\"\"\n",
    "    Parse a graph of subscribers of a particular group on Vk.com. \n",
    "    Edge from i to j is conducted if i is in friends of j.\n",
    "    In order to get access to VK api one needs access_token from standalone app\n",
    "    \n",
    "    Variable offset needs to shift a selection for parsing.\n",
    "    \n",
    "    Returns graph, number of users who are not been parsed because of private or deleted account\n",
    "    and total number of members in group\n",
    "    \"\"\"\n",
    "    vk_session = vk_api.VkApi(token=access_token)\n",
    "    vk = vk_session.get_api()\n",
    "    private_users = 0\n",
    "    offset = -1\n",
    "    graph = nx.Graph()\n",
    "    followers = np.array([])\n",
    "    \n",
    "    get_followers = vk.groups.getMembers(group_id=group_id, offset = offset+1)\n",
    "    number_members = get_followers['count']\n",
    "    followers = np.append(followers, get_followers['items'])\n",
    "    proxy = number_members - len(get_followers['items'])\n",
    "    offset += 1000\n",
    "    \n",
    "    while  proxy != 0:\n",
    "        get_followers = vk.groups.getMembers(group_id=group_id, offset = offset)\n",
    "        proxy = len(get_followers['items'])\n",
    "        offset += 1000\n",
    "        followers = np.append(followers, get_followers['items'])\n",
    " \n",
    "    \n",
    "    \n",
    "    for follower in followers:\n",
    "        graph.add_node(follower)\n",
    "\n",
    "    for follower in followers:\n",
    "        try:\n",
    "            friends = vk.friends.get(user_id=follower)\n",
    "        except vk_api.exceptions.ApiError:\n",
    "            private_users += 1\n",
    "            friends = {'items':[]}\n",
    "        else: pass\n",
    "        for friend in friends['items']:\n",
    "            if friend in followers:\n",
    "                graph.add_edge(follower, friend)\n",
    "        \n",
    "    print(f'Не удалось собрать информацию о: {private_users}')\n",
    "    print(f'Всего найдено подписчиков: {number_members}')\n",
    "\n",
    "    return graph, private_users, number_members"
   ]
  },
  {
   "cell_type": "code",
   "execution_count": null,
   "id": "e2f12cf7",
   "metadata": {},
   "outputs": [],
   "source": []
  }
 ],
 "metadata": {
  "kernelspec": {
   "display_name": "Python 3 (ipykernel)",
   "language": "python",
   "name": "python3"
  },
  "language_info": {
   "codemirror_mode": {
    "name": "ipython",
    "version": 3
   },
   "file_extension": ".py",
   "mimetype": "text/x-python",
   "name": "python",
   "nbconvert_exporter": "python",
   "pygments_lexer": "ipython3",
   "version": "3.10.6"
  }
 },
 "nbformat": 4,
 "nbformat_minor": 5
}
